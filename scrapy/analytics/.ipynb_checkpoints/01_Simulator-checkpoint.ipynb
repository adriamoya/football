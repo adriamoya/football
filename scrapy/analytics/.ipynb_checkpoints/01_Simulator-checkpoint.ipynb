{
 "cells": [
  {
   "cell_type": "code",
   "execution_count": 9,
   "metadata": {
    "collapsed": true
   },
   "outputs": [],
   "source": [
    "import pandas as pd\n",
    "import pprint\n",
    "\n",
    "pp = pprint.PrettyPrinter(indent=2)"
   ]
  },
  {
   "cell_type": "code",
   "execution_count": 10,
   "metadata": {
    "collapsed": true
   },
   "outputs": [],
   "source": [
    "df_actas = pd.read_json('../rfef/actas.json')\n",
    "df_clasif = pd.read_json('../laliga/laliga.json')"
   ]
  },
  {
   "cell_type": "code",
   "execution_count": 12,
   "metadata": {},
   "outputs": [
    {
     "data": {
      "text/html": [
       "<div>\n",
       "<style>\n",
       "    .dataframe thead tr:only-child th {\n",
       "        text-align: right;\n",
       "    }\n",
       "\n",
       "    .dataframe thead th {\n",
       "        text-align: left;\n",
       "    }\n",
       "\n",
       "    .dataframe tbody tr th {\n",
       "        vertical-align: top;\n",
       "    }\n",
       "</style>\n",
       "<table border=\"1\" class=\"dataframe\">\n",
       "  <thead>\n",
       "    <tr style=\"text-align: right;\">\n",
       "      <th></th>\n",
       "      <th>arbitros</th>\n",
       "      <th>campeonato</th>\n",
       "      <th>campo</th>\n",
       "      <th>club_local</th>\n",
       "      <th>club_visitante</th>\n",
       "      <th>fecha</th>\n",
       "      <th>jornada</th>\n",
       "      <th>temporada</th>\n",
       "      <th>urls</th>\n",
       "    </tr>\n",
       "  </thead>\n",
       "  <tbody>\n",
       "    <tr>\n",
       "      <th>0</th>\n",
       "      <td>{u'arbitro_asistente_1': [u'D. Fuentes Giménez...</td>\n",
       "      <td>Campeonato de Liga 1ª División</td>\n",
       "      <td>San Mamés</td>\n",
       "      <td>{u'entrenador_2': u'Ziganda Lacunza, José Ánge...</td>\n",
       "      <td>{u'entrenador_2': u'Escriba Segura, Francisco ...</td>\n",
       "      <td>2005-03-16 21:00:00</td>\n",
       "      <td>25</td>\n",
       "      <td>2004</td>\n",
       "      <td>[http://actas.rfef.es/actas/RFEF_CmpActa1?cod_...</td>\n",
       "    </tr>\n",
       "    <tr>\n",
       "      <th>1</th>\n",
       "      <td>{u'arbitro_asistente_1': [u'D. Fidalgo Trapote...</td>\n",
       "      <td>Campeonato de Liga 1ª División</td>\n",
       "      <td>Mestalla</td>\n",
       "      <td>{u'entrenador_2': u'No Presenta Segundo', u'ta...</td>\n",
       "      <td>{u'entrenador_2': u'No Presenta Segundo', u'ta...</td>\n",
       "      <td>2005-02-27 21:00:00</td>\n",
       "      <td>25</td>\n",
       "      <td>2004</td>\n",
       "      <td>[http://actas.rfef.es/actas/RFEF_CmpActa1?cod_...</td>\n",
       "    </tr>\n",
       "    <tr>\n",
       "      <th>2</th>\n",
       "      <td>{u'arbitro_asistente_1': [u'D. Enguix Sales, J...</td>\n",
       "      <td>Campeonato de Liga 1ª División</td>\n",
       "      <td>Santiago Bernabéu</td>\n",
       "      <td>{u'entrenador_2': u'No Presenta', u'tarjetas':...</td>\n",
       "      <td>{u'entrenador_2': u'Juarros García, Lorenzo', ...</td>\n",
       "      <td>2005-01-05 18:00:00</td>\n",
       "      <td>15</td>\n",
       "      <td>2004</td>\n",
       "      <td>[http://actas.rfef.es/actas/RFEF_CmpActa1?cod_...</td>\n",
       "    </tr>\n",
       "    <tr>\n",
       "      <th>3</th>\n",
       "      <td>{u'arbitro_asistente_1': [u'D. Asensio Rodrígu...</td>\n",
       "      <td>Campeonato de Liga 1ª División</td>\n",
       "      <td>Metropolitano</td>\n",
       "      <td>{u'entrenador_2': u'Resino Gómez, Abel', u'tar...</td>\n",
       "      <td>{u'entrenador_2': u'Cortijo Cabrera, Alfonso',...</td>\n",
       "      <td>2005-01-29 20:00:00</td>\n",
       "      <td>21</td>\n",
       "      <td>2004</td>\n",
       "      <td>[http://actas.rfef.es/actas/RFEF_CmpActa1?cod_...</td>\n",
       "    </tr>\n",
       "    <tr>\n",
       "      <th>4</th>\n",
       "      <td>{u'arbitro_asistente_1': [u'D. Fuentes Giménez...</td>\n",
       "      <td>Campeonato de Liga 1ª División</td>\n",
       "      <td>Cornellá - El Prat</td>\n",
       "      <td>{u'entrenador_2': u'Márquez López, Bartolomé',...</td>\n",
       "      <td>{u'entrenador_2': u'No Presenta Segundo', u'ta...</td>\n",
       "      <td>2004-12-12 21:00:00</td>\n",
       "      <td>15</td>\n",
       "      <td>2004</td>\n",
       "      <td>[http://actas.rfef.es/actas/RFEF_CmpActa1?cod_...</td>\n",
       "    </tr>\n",
       "  </tbody>\n",
       "</table>\n",
       "</div>"
      ],
      "text/plain": [
       "                                            arbitros  \\\n",
       "0  {u'arbitro_asistente_1': [u'D. Fuentes Giménez...   \n",
       "1  {u'arbitro_asistente_1': [u'D. Fidalgo Trapote...   \n",
       "2  {u'arbitro_asistente_1': [u'D. Enguix Sales, J...   \n",
       "3  {u'arbitro_asistente_1': [u'D. Asensio Rodrígu...   \n",
       "4  {u'arbitro_asistente_1': [u'D. Fuentes Giménez...   \n",
       "\n",
       "                       campeonato               campo  \\\n",
       "0  Campeonato de Liga 1ª División           San Mamés   \n",
       "1  Campeonato de Liga 1ª División            Mestalla   \n",
       "2  Campeonato de Liga 1ª División   Santiago Bernabéu   \n",
       "3  Campeonato de Liga 1ª División       Metropolitano   \n",
       "4  Campeonato de Liga 1ª División  Cornellá - El Prat   \n",
       "\n",
       "                                          club_local  \\\n",
       "0  {u'entrenador_2': u'Ziganda Lacunza, José Ánge...   \n",
       "1  {u'entrenador_2': u'No Presenta Segundo', u'ta...   \n",
       "2  {u'entrenador_2': u'No Presenta', u'tarjetas':...   \n",
       "3  {u'entrenador_2': u'Resino Gómez, Abel', u'tar...   \n",
       "4  {u'entrenador_2': u'Márquez López, Bartolomé',...   \n",
       "\n",
       "                                      club_visitante                fecha  \\\n",
       "0  {u'entrenador_2': u'Escriba Segura, Francisco ...  2005-03-16 21:00:00   \n",
       "1  {u'entrenador_2': u'No Presenta Segundo', u'ta...  2005-02-27 21:00:00   \n",
       "2  {u'entrenador_2': u'Juarros García, Lorenzo', ...  2005-01-05 18:00:00   \n",
       "3  {u'entrenador_2': u'Cortijo Cabrera, Alfonso',...  2005-01-29 20:00:00   \n",
       "4  {u'entrenador_2': u'No Presenta Segundo', u'ta...  2004-12-12 21:00:00   \n",
       "\n",
       "   jornada  temporada                                               urls  \n",
       "0       25       2004  [http://actas.rfef.es/actas/RFEF_CmpActa1?cod_...  \n",
       "1       25       2004  [http://actas.rfef.es/actas/RFEF_CmpActa1?cod_...  \n",
       "2       15       2004  [http://actas.rfef.es/actas/RFEF_CmpActa1?cod_...  \n",
       "3       21       2004  [http://actas.rfef.es/actas/RFEF_CmpActa1?cod_...  \n",
       "4       15       2004  [http://actas.rfef.es/actas/RFEF_CmpActa1?cod_...  "
      ]
     },
     "execution_count": 12,
     "metadata": {},
     "output_type": "execute_result"
    }
   ],
   "source": [
    "df_actas.head()"
   ]
  },
  {
   "cell_type": "code",
   "execution_count": 14,
   "metadata": {},
   "outputs": [
    {
     "data": {
      "text/html": [
       "<div>\n",
       "<style>\n",
       "    .dataframe thead tr:only-child th {\n",
       "        text-align: right;\n",
       "    }\n",
       "\n",
       "    .dataframe thead th {\n",
       "        text-align: left;\n",
       "    }\n",
       "\n",
       "    .dataframe tbody tr th {\n",
       "        vertical-align: top;\n",
       "    }\n",
       "</style>\n",
       "<table border=\"1\" class=\"dataframe\">\n",
       "  <thead>\n",
       "    <tr style=\"text-align: right;\">\n",
       "      <th></th>\n",
       "      <th>equipo</th>\n",
       "      <th>goles_contra</th>\n",
       "      <th>goles_favor</th>\n",
       "      <th>jornada</th>\n",
       "      <th>partidos_empatados</th>\n",
       "      <th>partidos_ganados</th>\n",
       "      <th>partidos_perdidos</th>\n",
       "      <th>posicion</th>\n",
       "      <th>puntos</th>\n",
       "      <th>temporada</th>\n",
       "    </tr>\n",
       "  </thead>\n",
       "  <tbody>\n",
       "    <tr>\n",
       "      <th>0</th>\n",
       "      <td>Real Madrid</td>\n",
       "      <td>37</td>\n",
       "      <td>65</td>\n",
       "      <td>31</td>\n",
       "      <td>4</td>\n",
       "      <td>20</td>\n",
       "      <td>7</td>\n",
       "      <td>1</td>\n",
       "      <td>67</td>\n",
       "      <td>2003</td>\n",
       "    </tr>\n",
       "    <tr>\n",
       "      <th>1</th>\n",
       "      <td>Valencia CF</td>\n",
       "      <td>21</td>\n",
       "      <td>62</td>\n",
       "      <td>31</td>\n",
       "      <td>5</td>\n",
       "      <td>20</td>\n",
       "      <td>6</td>\n",
       "      <td>2</td>\n",
       "      <td>66</td>\n",
       "      <td>2003</td>\n",
       "    </tr>\n",
       "    <tr>\n",
       "      <th>2</th>\n",
       "      <td>RC Deportivo</td>\n",
       "      <td>30</td>\n",
       "      <td>50</td>\n",
       "      <td>31</td>\n",
       "      <td>8</td>\n",
       "      <td>17</td>\n",
       "      <td>6</td>\n",
       "      <td>3</td>\n",
       "      <td>57</td>\n",
       "      <td>2003</td>\n",
       "    </tr>\n",
       "    <tr>\n",
       "      <th>3</th>\n",
       "      <td>Atlético de Madrid</td>\n",
       "      <td>0</td>\n",
       "      <td>4</td>\n",
       "      <td>2</td>\n",
       "      <td>0</td>\n",
       "      <td>2</td>\n",
       "      <td>0</td>\n",
       "      <td>1</td>\n",
       "      <td>6</td>\n",
       "      <td>2004</td>\n",
       "    </tr>\n",
       "    <tr>\n",
       "      <th>4</th>\n",
       "      <td>Valencia CF</td>\n",
       "      <td>24</td>\n",
       "      <td>70</td>\n",
       "      <td>36</td>\n",
       "      <td>5</td>\n",
       "      <td>23</td>\n",
       "      <td>8</td>\n",
       "      <td>1</td>\n",
       "      <td>77</td>\n",
       "      <td>2003</td>\n",
       "    </tr>\n",
       "  </tbody>\n",
       "</table>\n",
       "</div>"
      ],
      "text/plain": [
       "               equipo  goles_contra  goles_favor  jornada  partidos_empatados  \\\n",
       "0         Real Madrid            37           65       31                   4   \n",
       "1         Valencia CF            21           62       31                   5   \n",
       "2        RC Deportivo            30           50       31                   8   \n",
       "3  Atlético de Madrid             0            4        2                   0   \n",
       "4         Valencia CF            24           70       36                   5   \n",
       "\n",
       "   partidos_ganados  partidos_perdidos  posicion  puntos  temporada  \n",
       "0                20                  7         1      67       2003  \n",
       "1                20                  6         2      66       2003  \n",
       "2                17                  6         3      57       2003  \n",
       "3                 2                  0         1       6       2004  \n",
       "4                23                  8         1      77       2003  "
      ]
     },
     "execution_count": 14,
     "metadata": {},
     "output_type": "execute_result"
    }
   ],
   "source": [
    "df_clasif.head()"
   ]
  },
  {
   "cell_type": "code",
   "execution_count": 15,
   "metadata": {},
   "outputs": [
    {
     "data": {
      "text/plain": [
       "Index([u'arbitros', u'campeonato', u'campo', u'club_local', u'club_visitante',\n",
       "       u'fecha', u'jornada', u'temporada', u'urls'],\n",
       "      dtype='object')"
      ]
     },
     "execution_count": 15,
     "metadata": {},
     "output_type": "execute_result"
    }
   ],
   "source": [
    "df_actas.columns"
   ]
  },
  {
   "cell_type": "code",
   "execution_count": 16,
   "metadata": {
    "collapsed": true
   },
   "outputs": [],
   "source": [
    "jornada_list = sorted(df_actas['jornada'].unique().tolist())\n",
    "temporada_list = sorted(df_actas['temporada'].unique().tolist())"
   ]
  },
  {
   "cell_type": "markdown",
   "metadata": {},
   "source": [
    "### Asignación de puntos según resultado"
   ]
  },
  {
   "cell_type": "code",
   "execution_count": 17,
   "metadata": {
    "collapsed": true
   },
   "outputs": [],
   "source": [
    "equipos = []\n",
    "\n",
    "for temporada in temporada_list:\n",
    "    for jornada in jornada_list:\n",
    "        df_partidos = df_actas[(df_actas.jornada==jornada) & (df_actas.temporada==temporada)]\n",
    "        #partidos = [row.to_dict() for index, row in df_partidos.iterrows()]\n",
    "        for index, row in df_partidos.iterrows():\n",
    "            \n",
    "            equipos.append(row.club_local['nombre'])\n",
    "            try:\n",
    "                # Empate\n",
    "                if row.club_local[\"goles_count\"] == row.club_visitante[\"goles_count\"]:\n",
    "                    #print \"empate\"\n",
    "                    row.club_local[\"puntos_jornada\"] = 1\n",
    "                    row.club_visitante[\"puntos_jornada\"] = 1\n",
    "\n",
    "                # Victoria local\n",
    "                elif row.club_local[\"goles_count\"] > row.club_visitante[\"goles_count\"]:\n",
    "                    #print \"victoria local\"\n",
    "                    row.club_local[\"puntos_jornada\"] = 3\n",
    "                    row.club_visitante[\"puntos_jornada\"] = 0\n",
    "\n",
    "                # Victoria visitante\n",
    "                elif row.club_local[\"goles_count\"] < row.club_visitante[\"goles_count\"]:\n",
    "                    #print \"victoria visitante\"\n",
    "                    row.club_local[\"puntos_jornada\"] = 0\n",
    "                    row.club_visitante[\"puntos_jornada\"] = 3    \n",
    "                \n",
    "            except:\n",
    "                print index"
   ]
  },
  {
   "cell_type": "code",
   "execution_count": 18,
   "metadata": {
    "collapsed": true
   },
   "outputs": [],
   "source": [
    "#pp.pprint(df.iloc[0].club_local)\n",
    "#pp.pprint(df.iloc[0].club_visitante)"
   ]
  },
  {
   "cell_type": "code",
   "execution_count": 20,
   "metadata": {},
   "outputs": [
    {
     "data": {
      "text/plain": [
       "39"
      ]
     },
     "execution_count": 20,
     "metadata": {},
     "output_type": "execute_result"
    }
   ],
   "source": [
    "# Distinct for a python list (does not preserve order)\n",
    "equipos_list_actas = list(set(equipos))\n",
    "len(equipos_list_actas)"
   ]
  },
  {
   "cell_type": "code",
   "execution_count": 25,
   "metadata": {},
   "outputs": [
    {
     "data": {
      "text/plain": [
       "39"
      ]
     },
     "execution_count": 25,
     "metadata": {},
     "output_type": "execute_result"
    }
   ],
   "source": [
    "equipos_list_clasif = df_clasif.equipo.unique().tolist()\n",
    "len(equipos_list_clasif)"
   ]
  },
  {
   "cell_type": "markdown",
   "metadata": {},
   "source": [
    "## Matching teams between different sources\n",
    "\n",
    "Now that we have identified the teams from the df_actas, we need to find unique teams in df_clasif. Then we will establish the relationship between them."
   ]
  },
  {
   "cell_type": "code",
   "execution_count": 33,
   "metadata": {},
   "outputs": [
    {
     "name": "stdout",
     "output_type": "stream",
     "text": [
      "[ (u'Real Sociedad de F\\xfatbol SAD', u'Real Sociedad'),\n",
      "  (u'Real Zaragoza SAD', u'R. Zaragoza'),\n",
      "  (u'RCD Mallorca SAD', u'RCD Mallorca'),\n",
      "  (u'RCD spanyol de Barcelona SAD', u'RCD Espanyol'),\n",
      "  (u'Real Sporting de Gij\\xf3n SAD', u'R. Sporting'),\n",
      "  (u'Real Valladolid CF SAD', u'R. Valladolid CF'),\n",
      "  (u'Levante D SAD', u'Levante UD'),\n",
      "  (u'CD Numancia de Soria SAD', u'CD Numancia'),\n",
      "  (u'RC Recreativo de Huelva SAD', u'RC Recreativo'),\n",
      "  (u'Athletic Club', u'Athletic Club'),\n",
      "  (u'Club Atl\\xe9tico de Madrid SAD', u'Atl\\xe9tico de Madrid'),\n",
      "  (u'D Las almas SAD', u'UD Las Palmas'),\n",
      "  (u'Rayo Vallecano de Madrid SAD', u'Rayo Vallecano'),\n",
      "  (u'SD ibar SAD', u'SD Eibar'),\n",
      "  (u'Villarreal CF SAD', u'Villarreal CF'),\n",
      "  (u'D Almer\\xeda SAD', u'UD Almer\\xeda'),\n",
      "  (u'RC Deportivo de La Coru\\xf1a SAD', u'RC Deportivo'),\n",
      "  (u'CD Legan\\xe9s SAD', u'CD Legan\\xe9s'),\n",
      "  (u'Real Racing Club de Santander SAD', u'R. Racing C.'),\n",
      "  (u'Sevilla FC SAD', u'Sevilla FC'),\n",
      "  (u'C\\xe1diz CF SAD', u'C\\xe1diz CF'),\n",
      "  (u'Deportivo Alav\\xe9s SAD', u'D. Alav\\xe9s'),\n",
      "  (u'Granada CF SAD', u'Granada CF'),\n",
      "  (u'FC Barcelona', u'FC Barcelona'),\n",
      "  (u'Gimn\\xe0stic de Tarragona SAD', u'N\\xe0stic'),\n",
      "  (u'H\\xe9rcules de Alicante CF SAD', u'H\\xe9rcules CF'),\n",
      "  (u'M\\xe1laga CF SAD', u'M\\xe1laga CF'),\n",
      "  (u'Real Murcia CF SAD', u'Real Murcia'),\n",
      "  (u'Real Madrid CF', u'Real Madrid'),\n",
      "  (u'Club Atl\\xe9tico sasuna', u'CA Osasuna'),\n",
      "  (u'Real Betis Balompi\\xe9 SAD', u'Real Betis'),\n",
      "  (u'RC Celta de Vigo SAD', u'RC Celta'),\n",
      "  (u'Xerez C.D. SAD', u'Xerez CD'),\n",
      "  (u'C\\xf3rdoba CF SAD', u'C\\xf3rdoba CF'),\n",
      "  (u'Getafe CF SAD', u'Getafe CF'),\n",
      "  (u'CD Tenerife SAD', u'CD Tenerife'),\n",
      "  (u'Albacete Balompi\\xe9 SAD', u'Albacete B.'),\n",
      "  (u'Valencia CF SAD', u'Valencia CF'),\n",
      "  (u'lche CF SAD', u'Elche CF')]\n"
     ]
    }
   ],
   "source": [
    "i = 0\n",
    "for equipo in equipos_list_actas:\n",
    "    #print (i, equipo)\n",
    "    i += 1\n",
    "\n",
    "i = 0\n",
    "for equipo in equipos_list_clasif:\n",
    "    #print (i, equipo)\n",
    "    i += 1\n",
    "\n",
    "equipos_list = [\n",
    "    (equipos_list_actas[0], equipos_list_clasif[17]),\n",
    "    (equipos_list_actas[1], equipos_list_clasif[8]),\n",
    "    (equipos_list_actas[2], equipos_list_clasif[14]),\n",
    "    (equipos_list_actas[3], equipos_list_clasif[7]),\n",
    "    (equipos_list_actas[4], equipos_list_clasif[27]),\n",
    "    (equipos_list_actas[5], equipos_list_clasif[16]),\n",
    "    (equipos_list_actas[6], equipos_list_clasif[13]),\n",
    "    (equipos_list_actas[7], equipos_list_clasif[19]),\n",
    "    (equipos_list_actas[8], equipos_list_clasif[36]),\n",
    "    (equipos_list_actas[9], equipos_list_clasif[6]),\n",
    "    (equipos_list_actas[10], equipos_list_clasif[3]),\n",
    "    (equipos_list_actas[11], equipos_list_clasif[25]),\n",
    "    (equipos_list_actas[12], equipos_list_clasif[29]),\n",
    "    (equipos_list_actas[13], equipos_list_clasif[23]),\n",
    "    (equipos_list_actas[14], equipos_list_clasif[11]),\n",
    "    (equipos_list_actas[15], equipos_list_clasif[31]),\n",
    "    (equipos_list_actas[16], equipos_list_clasif[2]),\n",
    "    (equipos_list_actas[17], equipos_list_clasif[26]),\n",
    "    (equipos_list_actas[18], equipos_list_clasif[15]),\n",
    "    (equipos_list_actas[19], equipos_list_clasif[10]),\n",
    "    (equipos_list_actas[20], equipos_list_clasif[38]),\n",
    "    (equipos_list_actas[21], equipos_list_clasif[24]),\n",
    "    (equipos_list_actas[22], equipos_list_clasif[28]),\n",
    "    (equipos_list_actas[23], equipos_list_clasif[4]),\n",
    "    (equipos_list_actas[24], equipos_list_clasif[37]),\n",
    "    (equipos_list_actas[25], equipos_list_clasif[33]),\n",
    "    (equipos_list_actas[26], equipos_list_clasif[9]),\n",
    "    (equipos_list_actas[27], equipos_list_clasif[21]),\n",
    "    (equipos_list_actas[28], equipos_list_clasif[0]),\n",
    "    (equipos_list_actas[29], equipos_list_clasif[5]),\n",
    "    (equipos_list_actas[30], equipos_list_clasif[12]),\n",
    "    (equipos_list_actas[31], equipos_list_clasif[20]),\n",
    "    (equipos_list_actas[32], equipos_list_clasif[35]),\n",
    "    (equipos_list_actas[33], equipos_list_clasif[32]),\n",
    "    (equipos_list_actas[34], equipos_list_clasif[22]),\n",
    "    (equipos_list_actas[35], equipos_list_clasif[34]),\n",
    "    (equipos_list_actas[36], equipos_list_clasif[18]),\n",
    "    (equipos_list_actas[37], equipos_list_clasif[1]),\n",
    "    (equipos_list_actas[38], equipos_list_clasif[30])\n",
    "]\n",
    "\n",
    "pp.pprint(equipos_list)"
   ]
  },
  {
   "cell_type": "markdown",
   "metadata": {},
   "source": [
    "Linking the info from both dataframes"
   ]
  },
  {
   "cell_type": "code",
   "execution_count": 38,
   "metadata": {},
   "outputs": [],
   "source": [
    "for temporada in temporada_list:\n",
    "    for equipo_acta in equipos_list_actas:\n",
    "        for jornada in jornada_list:\n",
    "            obj_actas = df_actas[(df_actas.temporada==temporada) & (df_actas.jornada==jornada)]\n",
    "            obj_clasif = df_clasif[(df_clasif.temporada==temporada) & (df_clasif.jornada==jornada)]\n",
    "            for index, row in obj_actas.iterrows():\n",
    "                \n",
    "                if row.club_local['nombre'] == equipo_acta:\n",
    "                    for x in equipos_list:\n",
    "                        if x[0] == equipo_acta:\n",
    "                            equipo_clasif = x[1]\n",
    "                            for index_clasif, row_clasif in obj_clasif.iterrows():\n",
    "                                if row_clasif.equipo == equipo_clasif:\n",
    "                                    row.club_local[\"posicion\"] = row_clasif.posicion\n",
    "                                    row.club_local[\"puntos\"] = row_clasif.puntos\n",
    "                                    \n",
    "                elif row.club_visitante['nombre'] == equipo_acta:\n",
    "                    for x in equipos_list:\n",
    "                        if x[0] == equipo_acta:\n",
    "                            equipo_clasif = x[1]\n",
    "                            for index_clasif, row_clasif in obj_clasif.iterrows():\n",
    "                                if row_clasif.equipo == equipo_clasif:\n",
    "                                    row.club_visitante[\"posicion\"] = row_clasif.posicion\n",
    "                                    row.club_visitante[\"puntos\"] = row_clasif.puntos"
   ]
  },
  {
   "cell_type": "code",
   "execution_count": 41,
   "metadata": {},
   "outputs": [
    {
     "data": {
      "text/plain": [
       "{u'alineacion': [[25, u'Aragoneses Almeida, Sergio'],\n",
       "  [2, u'Yanguas Calleja, Jos\\xe9 M.'],\n",
       "  [3, u'Andr\\xe9s Pernia, Mariano'],\n",
       "  [4, u'Rivas \\xc1lvaro, Victoriano'],\n",
       "  [6, u'Rivas Guti\\xe9rrez, Diego'],\n",
       "  [15, u'Albiol Tortajada, Ra\\xfal'],\n",
       "  [16, u'Vivar Dorado, \\xc1ngel Manuel'],\n",
       "  [18, u'Guti\\xe9rrez Cotelo, Mario'],\n",
       "  [19, u'Belenguer Reverte, David'],\n",
       "  [22, u'Ngom Kome, Daniel Armand'],\n",
       "  [24, u'S\\xe1nchez-Rico Soto, Iv\\xe1n']],\n",
       " u'entrenador': u'S\\xe1nchez Flores, Enrique',\n",
       " u'entrenador_2': u'Escriba Segura, Francisco Miguel',\n",
       " u'goles': [{u'goleador': u'Ngom Kome, Daniel Armand',\n",
       "   u'minuto': 64,\n",
       "   u'tipo_gol': u'Gol'},\n",
       "  {u'goleador': u'Carrilero Gonz\\xe1lez, Miguel',\n",
       "   u'minuto': 79,\n",
       "   u'tipo_gol': u'Gol'}],\n",
       " u'goles_count': 2,\n",
       " u'nombre': u'Getafe CF SAD',\n",
       " 'posicion': 16,\n",
       " 'puntos': 28,\n",
       " 'puntos_jornada': 3,\n",
       " u'suplentes': [[13, u'S\\xe1nchez Broto, Javier'],\n",
       "  [5, u'Garc\\xeda Cubillo, David'],\n",
       "  [7, u'Carrilero Gonz\\xe1lez, Miguel'],\n",
       "  [8, u'Craioveanu, Gheorghe'],\n",
       "  [9, u'Gonz\\xe1lez D\\xedaz, Jorge'],\n",
       "  [14, u'Asensio de la Fuente Jaime'],\n",
       "  [23, u'Tena L\\xf3pez, Manuel']],\n",
       " u'sustituciones': [{u'entra': u'Carrilero Gonz\\xe1lez, Miguel',\n",
       "   u'minuto': 45,\n",
       "   u'sale': u'Rivas Guti\\xe9rrez, Diego'},\n",
       "  {u'entra': u'Craioveanu, Gheorghe',\n",
       "   u'minuto': 82,\n",
       "   u'sale': u'S\\xe1nchez-Rico Soto, Iv\\xe1n'},\n",
       "  {u'entra': u'Asensio de la Fuente Jaime',\n",
       "   u'minuto': 88,\n",
       "   u'sale': u'Ngom Kome, Daniel Armand'}],\n",
       " u'sustituciones_count': 3,\n",
       " u'tarjetas': [{u'jugador': u'Rivas Guti\\xe9rrez, Diego',\n",
       "   u'minuto': 10,\n",
       "   u'tarjeta': u'Amarilla'},\n",
       "  {u'jugador': u'Belenguer Reverte, David',\n",
       "   u'minuto': 41,\n",
       "   u'tarjeta': u'Amarilla'},\n",
       "  {u'jugador': u'Carrilero Gonz\\xe1lez, Miguel',\n",
       "   u'minuto': 65,\n",
       "   u'tarjeta': u'Amarilla'},\n",
       "  {u'jugador': u'Albiol Tortajada, Ra\\xfal',\n",
       "   u'minuto': 71,\n",
       "   u'tarjeta': u'Amarilla'},\n",
       "  {u'jugador': u'Guti\\xe9rrez Cotelo, Mario',\n",
       "   u'minuto': 89,\n",
       "   u'tarjeta': u'Amarilla'}],\n",
       " u'tarjetas_count': 5}"
      ]
     },
     "execution_count": 41,
     "metadata": {},
     "output_type": "execute_result"
    }
   ],
   "source": [
    "temporada = 2016\n",
    "equipo = equipos_list_actas[28]\n",
    "\n",
    "df_temp = df_actas[(df_actas.temporada==temporada)]\n",
    "for jornada in jornada_list:\n",
    "    for index, rows in df_temp[df_temp.jornada==jornada].iterrows():\n",
    "        \n",
    "        if row.club_local['nombre'] == equipo:\n",
    "            print jornada,'puntos:', row.club_local['puntos'],\"(+\", row.club_local['puntos_jornada'], ') pos:', row.club_local['posicion']\n",
    "            \n",
    "            \n",
    "        if row.club_visitante['nombre'] == equipo:\n",
    "    "
   ]
  },
  {
   "cell_type": "markdown",
   "metadata": {},
   "source": [
    "## Deprecated"
   ]
  },
  {
   "cell_type": "code",
   "execution_count": 233,
   "metadata": {
    "collapsed": true
   },
   "outputs": [],
   "source": [
    "# Calculate puntos for each jornada for each team\n",
    "\n",
    "puntos = 0\n",
    "goles = 0\n",
    "i = 0\n",
    "for temporada in temporada_list:\n",
    "    for equipo in equipos_list:\n",
    "        puntos = 0\n",
    "        goles = 0\n",
    "        for jornada in jornada_list:\n",
    "            obj = df[(df.temporada==temporada) & (df.jornada==jornada)]\n",
    "            for index, row in obj.iterrows():\n",
    "                if row.club_local['nombre'] == equipo:\n",
    "                    puntos += row.club_local[\"puntos_jornada\"]\n",
    "                    goles += row.club_local[\"goles_count\"]\n",
    "                    row.club_local[\"puntos\"] = puntos\n",
    "                    row.club_local[\"goles_count_acum\"] = goles\n",
    "                elif row.club_visitante['nombre'] == equipo:\n",
    "                    puntos += row.club_visitante[\"puntos_jornada\"]\n",
    "                    goles += row.club_visitante[\"goles_count\"]\n",
    "                    row.club_visitante[\"puntos\"] = puntos\n",
    "                    row.club_visitante[\"goles_count_acum\"] = goles"
   ]
  },
  {
   "cell_type": "code",
   "execution_count": 234,
   "metadata": {},
   "outputs": [
    {
     "name": "stdout",
     "output_type": "stream",
     "text": [
      "1 (+ 3 ) 3 goles: 1\n",
      "2 (+ 1 ) 4 goles: 2\n",
      "3 (+ 3 ) 7 goles: 4\n",
      "4 (+ 1 ) 8 goles: 5\n",
      "5 (+ 1 ) 9 goles: 5\n",
      "6 (+ 0 ) 9 goles: 5\n",
      "7 (+ 0 ) 9 goles: 5\n",
      "8 (+ 3 ) 12 goles: 8\n",
      "9 (+ 3 ) 15 goles: 11\n",
      "10 (+ 1 ) 16 goles: 14\n",
      "11 (+ 3 ) 19 goles: 16\n",
      "12 (+ 0 ) 19 goles: 17\n",
      "13 (+ 1 ) 20 goles: 17\n",
      "14 (+ 0 ) 20 goles: 17\n"
     ]
    }
   ],
   "source": [
    "# Comprobación\n",
    "\n",
    "i = 0\n",
    "a = df[(df.temporada == \"Temporada 2003/2004\")]\n",
    "equipo = \"FC Barcelona\"\n",
    "for jornada in jornada_list:\n",
    "    i += 1\n",
    "    if i < 15:\n",
    "        b = a[(a.jornada==jornada)]\n",
    "        for index, row in b.iterrows():\n",
    "            if row.club_local[\"nombre\"]==equipo:\n",
    "                print jornada, \"(+\",row.club_local['puntos_jornada'],\")\",row.club_local['puntos'], \"goles:\", row.club_local['goles_count_acum']\n",
    "            elif row.club_visitante[\"nombre\"]==equipo:\n",
    "                print jornada, \"(+\",row.club_visitante['puntos_jornada'],\")\", row.club_visitante['puntos'], \"goles:\", row.club_visitante['goles_count_acum']"
   ]
  }
 ],
 "metadata": {
  "kernelspec": {
   "display_name": "Python 2",
   "language": "python",
   "name": "python2"
  },
  "language_info": {
   "codemirror_mode": {
    "name": "ipython",
    "version": 2
   },
   "file_extension": ".py",
   "mimetype": "text/x-python",
   "name": "python",
   "nbconvert_exporter": "python",
   "pygments_lexer": "ipython2",
   "version": "2.7.9"
  }
 },
 "nbformat": 4,
 "nbformat_minor": 2
}
