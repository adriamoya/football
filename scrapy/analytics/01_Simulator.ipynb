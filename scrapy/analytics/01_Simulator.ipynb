{
 "cells": [
  {
   "cell_type": "markdown",
   "metadata": {},
   "source": [
    "# Joining information\n",
    "\n",
    "The idea here is to join info from different sources:\n",
    "* RFEF, we have info from every match (referees, stadiuem, local and viisitor team, etc...\n",
    "* LaLiga, for every match day and season we have the classification\n",
    "We want to append the LaLiga information to every match collected in the RFEF, so that every team after each match day also has information regarding its position and points"
   ]
  },
  {
   "cell_type": "code",
   "execution_count": 166,
   "metadata": {
    "collapsed": true
   },
   "outputs": [],
   "source": [
    "import pandas as pd\n",
    "import pprint\n",
    "\n",
    "pp = pprint.PrettyPrinter(indent=2)"
   ]
  },
  {
   "cell_type": "code",
   "execution_count": 167,
   "metadata": {
    "collapsed": true
   },
   "outputs": [],
   "source": [
    "df_actas = pd.read_json('../rfef/actas.json') # rfef\n",
    "df_clasif = pd.read_json('../laliga/laliga.json') #laliga"
   ]
  },
  {
   "cell_type": "code",
   "execution_count": 168,
   "metadata": {
    "scrolled": true
   },
   "outputs": [
    {
     "data": {
      "text/html": [
       "<div>\n",
       "<style>\n",
       "    .dataframe thead tr:only-child th {\n",
       "        text-align: right;\n",
       "    }\n",
       "\n",
       "    .dataframe thead th {\n",
       "        text-align: left;\n",
       "    }\n",
       "\n",
       "    .dataframe tbody tr th {\n",
       "        vertical-align: top;\n",
       "    }\n",
       "</style>\n",
       "<table border=\"1\" class=\"dataframe\">\n",
       "  <thead>\n",
       "    <tr style=\"text-align: right;\">\n",
       "      <th></th>\n",
       "      <th>arbitros</th>\n",
       "      <th>campeonato</th>\n",
       "      <th>campo</th>\n",
       "      <th>club_local</th>\n",
       "      <th>club_visitante</th>\n",
       "      <th>fecha</th>\n",
       "      <th>jornada</th>\n",
       "      <th>temporada</th>\n",
       "      <th>urls</th>\n",
       "    </tr>\n",
       "  </thead>\n",
       "  <tbody>\n",
       "    <tr>\n",
       "      <th>0</th>\n",
       "      <td>{u'arbitro_asistente_1': [u'D. Fidalgo Trapote...</td>\n",
       "      <td>Campeonato de Liga 1ª División</td>\n",
       "      <td>El Madrigal</td>\n",
       "      <td>{u'entrenador_2': u'Cousillas, Rubén Osvaldo',...</td>\n",
       "      <td>{u'entrenador_2': u'Carnero Gonzalez, Ramon', ...</td>\n",
       "      <td>2005-09-21 21:00:00</td>\n",
       "      <td>4</td>\n",
       "      <td>2005</td>\n",
       "      <td>[http://actas.rfef.es/actas/RFEF_CmpActa1?cod_...</td>\n",
       "    </tr>\n",
       "    <tr>\n",
       "      <th>1</th>\n",
       "      <td>{u'arbitro_asistente_1': [u'D. Vidal Felani, E...</td>\n",
       "      <td>Campeonato de Liga 1ª División</td>\n",
       "      <td>La Rosaleda</td>\n",
       "      <td>{u'entrenador_2': u'Granero Gil, Paulino', u't...</td>\n",
       "      <td>{u'entrenador_2': u'oliva Fornos, Juan Carlos'...</td>\n",
       "      <td>2005-09-21 21:00:00</td>\n",
       "      <td>4</td>\n",
       "      <td>2005</td>\n",
       "      <td>[http://actas.rfef.es/actas/RFEF_CmpActa1?cod_...</td>\n",
       "    </tr>\n",
       "    <tr>\n",
       "      <th>2</th>\n",
       "      <td>{u'arbitro_asistente_1': [u'D. López Villate, ...</td>\n",
       "      <td>Campeonato de Liga 1ª División</td>\n",
       "      <td>Balaídos</td>\n",
       "      <td>{u'entrenador_2': u'Carnero Gonzalez, Ramon', ...</td>\n",
       "      <td>{u'entrenador_2': u'Álvarez Giráldez, Antonio'...</td>\n",
       "      <td>2005-09-25 21:00:00</td>\n",
       "      <td>5</td>\n",
       "      <td>2005</td>\n",
       "      <td>[http://actas.rfef.es/actas/RFEF_CmpActa1?cod_...</td>\n",
       "    </tr>\n",
       "    <tr>\n",
       "      <th>3</th>\n",
       "      <td>{u'arbitro_asistente_1': [u'D. Marañón Cantón,...</td>\n",
       "      <td>Campeonato de Liga 1ª División</td>\n",
       "      <td>Coliseum Alfonso Pérez</td>\n",
       "      <td>{u'entrenador_2': u'Ruiz Pérez, Manuel', u'tar...</td>\n",
       "      <td>{u'entrenador_2': u'No Presenta', u'tarjetas':...</td>\n",
       "      <td>2005-09-21 21:00:00</td>\n",
       "      <td>4</td>\n",
       "      <td>2005</td>\n",
       "      <td>[http://actas.rfef.es/actas/RFEF_CmpActa1?cod_...</td>\n",
       "    </tr>\n",
       "    <tr>\n",
       "      <th>4</th>\n",
       "      <td>{u'arbitro_asistente_1': [u'D. Martínez Samani...</td>\n",
       "      <td>Campeonato de Liga 1ª División</td>\n",
       "      <td>Camp Nou</td>\n",
       "      <td>{u'entrenador_2': u'Ten Cate, Hendrik Willem',...</td>\n",
       "      <td>{u'entrenador_2': u'Escriba Segura, Francisco ...</td>\n",
       "      <td>2005-09-21 21:00:00</td>\n",
       "      <td>4</td>\n",
       "      <td>2005</td>\n",
       "      <td>[http://actas.rfef.es/actas/RFEF_CmpActa1?cod_...</td>\n",
       "    </tr>\n",
       "  </tbody>\n",
       "</table>\n",
       "</div>"
      ],
      "text/plain": [
       "                                            arbitros  \\\n",
       "0  {u'arbitro_asistente_1': [u'D. Fidalgo Trapote...   \n",
       "1  {u'arbitro_asistente_1': [u'D. Vidal Felani, E...   \n",
       "2  {u'arbitro_asistente_1': [u'D. López Villate, ...   \n",
       "3  {u'arbitro_asistente_1': [u'D. Marañón Cantón,...   \n",
       "4  {u'arbitro_asistente_1': [u'D. Martínez Samani...   \n",
       "\n",
       "                       campeonato                   campo  \\\n",
       "0  Campeonato de Liga 1ª División             El Madrigal   \n",
       "1  Campeonato de Liga 1ª División             La Rosaleda   \n",
       "2  Campeonato de Liga 1ª División                Balaídos   \n",
       "3  Campeonato de Liga 1ª División  Coliseum Alfonso Pérez   \n",
       "4  Campeonato de Liga 1ª División                Camp Nou   \n",
       "\n",
       "                                          club_local  \\\n",
       "0  {u'entrenador_2': u'Cousillas, Rubén Osvaldo',...   \n",
       "1  {u'entrenador_2': u'Granero Gil, Paulino', u't...   \n",
       "2  {u'entrenador_2': u'Carnero Gonzalez, Ramon', ...   \n",
       "3  {u'entrenador_2': u'Ruiz Pérez, Manuel', u'tar...   \n",
       "4  {u'entrenador_2': u'Ten Cate, Hendrik Willem',...   \n",
       "\n",
       "                                      club_visitante                fecha  \\\n",
       "0  {u'entrenador_2': u'Carnero Gonzalez, Ramon', ...  2005-09-21 21:00:00   \n",
       "1  {u'entrenador_2': u'oliva Fornos, Juan Carlos'...  2005-09-21 21:00:00   \n",
       "2  {u'entrenador_2': u'Álvarez Giráldez, Antonio'...  2005-09-25 21:00:00   \n",
       "3  {u'entrenador_2': u'No Presenta', u'tarjetas':...  2005-09-21 21:00:00   \n",
       "4  {u'entrenador_2': u'Escriba Segura, Francisco ...  2005-09-21 21:00:00   \n",
       "\n",
       "   jornada  temporada                                               urls  \n",
       "0        4       2005  [http://actas.rfef.es/actas/RFEF_CmpActa1?cod_...  \n",
       "1        4       2005  [http://actas.rfef.es/actas/RFEF_CmpActa1?cod_...  \n",
       "2        5       2005  [http://actas.rfef.es/actas/RFEF_CmpActa1?cod_...  \n",
       "3        4       2005  [http://actas.rfef.es/actas/RFEF_CmpActa1?cod_...  \n",
       "4        4       2005  [http://actas.rfef.es/actas/RFEF_CmpActa1?cod_...  "
      ]
     },
     "execution_count": 168,
     "metadata": {},
     "output_type": "execute_result"
    }
   ],
   "source": [
    "df_actas.head()"
   ]
  },
  {
   "cell_type": "code",
   "execution_count": 169,
   "metadata": {},
   "outputs": [
    {
     "data": {
      "text/html": [
       "<div>\n",
       "<style>\n",
       "    .dataframe thead tr:only-child th {\n",
       "        text-align: right;\n",
       "    }\n",
       "\n",
       "    .dataframe thead th {\n",
       "        text-align: left;\n",
       "    }\n",
       "\n",
       "    .dataframe tbody tr th {\n",
       "        vertical-align: top;\n",
       "    }\n",
       "</style>\n",
       "<table border=\"1\" class=\"dataframe\">\n",
       "  <thead>\n",
       "    <tr style=\"text-align: right;\">\n",
       "      <th></th>\n",
       "      <th>equipo</th>\n",
       "      <th>goles_contra</th>\n",
       "      <th>goles_favor</th>\n",
       "      <th>jornada</th>\n",
       "      <th>partidos_empatados</th>\n",
       "      <th>partidos_ganados</th>\n",
       "      <th>partidos_jugados</th>\n",
       "      <th>partidos_perdidos</th>\n",
       "      <th>posicion</th>\n",
       "      <th>puntos</th>\n",
       "      <th>temporada</th>\n",
       "    </tr>\n",
       "  </thead>\n",
       "  <tbody>\n",
       "    <tr>\n",
       "      <th>0</th>\n",
       "      <td>R. Zaragoza</td>\n",
       "      <td>1</td>\n",
       "      <td>3</td>\n",
       "      <td>1</td>\n",
       "      <td>0</td>\n",
       "      <td>1</td>\n",
       "      <td>1</td>\n",
       "      <td>0</td>\n",
       "      <td>1</td>\n",
       "      <td>3</td>\n",
       "      <td>2004</td>\n",
       "    </tr>\n",
       "    <tr>\n",
       "      <th>1</th>\n",
       "      <td>Atlético de Madrid</td>\n",
       "      <td>0</td>\n",
       "      <td>2</td>\n",
       "      <td>1</td>\n",
       "      <td>0</td>\n",
       "      <td>1</td>\n",
       "      <td>1</td>\n",
       "      <td>0</td>\n",
       "      <td>2</td>\n",
       "      <td>3</td>\n",
       "      <td>2004</td>\n",
       "    </tr>\n",
       "    <tr>\n",
       "      <th>2</th>\n",
       "      <td>FC Barcelona</td>\n",
       "      <td>0</td>\n",
       "      <td>2</td>\n",
       "      <td>1</td>\n",
       "      <td>0</td>\n",
       "      <td>1</td>\n",
       "      <td>1</td>\n",
       "      <td>0</td>\n",
       "      <td>3</td>\n",
       "      <td>3</td>\n",
       "      <td>2004</td>\n",
       "    </tr>\n",
       "    <tr>\n",
       "      <th>3</th>\n",
       "      <td>Valencia CF</td>\n",
       "      <td>5</td>\n",
       "      <td>12</td>\n",
       "      <td>4</td>\n",
       "      <td>0</td>\n",
       "      <td>3</td>\n",
       "      <td>4</td>\n",
       "      <td>1</td>\n",
       "      <td>1</td>\n",
       "      <td>10</td>\n",
       "      <td>2004</td>\n",
       "    </tr>\n",
       "    <tr>\n",
       "      <th>4</th>\n",
       "      <td>FC Barcelona</td>\n",
       "      <td>2</td>\n",
       "      <td>9</td>\n",
       "      <td>4</td>\n",
       "      <td>0</td>\n",
       "      <td>3</td>\n",
       "      <td>4</td>\n",
       "      <td>1</td>\n",
       "      <td>2</td>\n",
       "      <td>10</td>\n",
       "      <td>2004</td>\n",
       "    </tr>\n",
       "  </tbody>\n",
       "</table>\n",
       "</div>"
      ],
      "text/plain": [
       "               equipo  goles_contra  goles_favor  jornada  partidos_empatados  \\\n",
       "0         R. Zaragoza             1            3        1                   0   \n",
       "1  Atlético de Madrid             0            2        1                   0   \n",
       "2        FC Barcelona             0            2        1                   0   \n",
       "3         Valencia CF             5           12        4                   0   \n",
       "4        FC Barcelona             2            9        4                   0   \n",
       "\n",
       "   partidos_ganados  partidos_jugados  partidos_perdidos  posicion  puntos  \\\n",
       "0                 1                 1                  0         1       3   \n",
       "1                 1                 1                  0         2       3   \n",
       "2                 1                 1                  0         3       3   \n",
       "3                 3                 4                  1         1      10   \n",
       "4                 3                 4                  1         2      10   \n",
       "\n",
       "   temporada  \n",
       "0       2004  \n",
       "1       2004  \n",
       "2       2004  \n",
       "3       2004  \n",
       "4       2004  "
      ]
     },
     "execution_count": 169,
     "metadata": {},
     "output_type": "execute_result"
    }
   ],
   "source": [
    "df_clasif.head()"
   ]
  },
  {
   "cell_type": "code",
   "execution_count": 170,
   "metadata": {},
   "outputs": [
    {
     "data": {
      "text/plain": [
       "Index([u'arbitros', u'campeonato', u'campo', u'club_local', u'club_visitante',\n",
       "       u'fecha', u'jornada', u'temporada', u'urls'],\n",
       "      dtype='object')"
      ]
     },
     "execution_count": 170,
     "metadata": {},
     "output_type": "execute_result"
    }
   ],
   "source": [
    "df_actas.columns"
   ]
  },
  {
   "cell_type": "code",
   "execution_count": 171,
   "metadata": {},
   "outputs": [],
   "source": [
    "jornada_list = sorted(df_actas['jornada'].unique().tolist())\n",
    "temporada_list = sorted(df_actas['temporada'].unique().tolist())"
   ]
  },
  {
   "cell_type": "markdown",
   "metadata": {},
   "source": [
    "### Automatically assigning points to each match based on the match result"
   ]
  },
  {
   "cell_type": "code",
   "execution_count": 172,
   "metadata": {
    "collapsed": true
   },
   "outputs": [],
   "source": [
    "equipos = []\n",
    "\n",
    "for temporada in temporada_list:\n",
    "    for jornada in jornada_list:\n",
    "        df_partidos = df_actas[(df_actas.jornada==jornada) & (df_actas.temporada==temporada)]\n",
    "        #partidos = [row.to_dict() for index, row in df_partidos.iterrows()]\n",
    "        for index, row in df_partidos.iterrows():\n",
    "            \n",
    "            equipos.append(row.club_local['nombre'])\n",
    "            try:\n",
    "                # Empate\n",
    "                if row.club_local[\"goles_count\"] == row.club_visitante[\"goles_count\"]:\n",
    "                    #print \"empate\"\n",
    "                    row.club_local[\"puntos_jornada\"] = 1\n",
    "                    row.club_visitante[\"puntos_jornada\"] = 1\n",
    "\n",
    "                # Victoria local\n",
    "                elif row.club_local[\"goles_count\"] > row.club_visitante[\"goles_count\"]:\n",
    "                    #print \"victoria local\"\n",
    "                    row.club_local[\"puntos_jornada\"] = 3\n",
    "                    row.club_visitante[\"puntos_jornada\"] = 0\n",
    "\n",
    "                # Victoria visitante\n",
    "                elif row.club_local[\"goles_count\"] < row.club_visitante[\"goles_count\"]:\n",
    "                    #print \"victoria visitante\"\n",
    "                    row.club_local[\"puntos_jornada\"] = 0\n",
    "                    row.club_visitante[\"puntos_jornada\"] = 3    \n",
    "                \n",
    "            except:\n",
    "                print index"
   ]
  },
  {
   "cell_type": "code",
   "execution_count": 173,
   "metadata": {
    "collapsed": true
   },
   "outputs": [],
   "source": [
    "#pp.pprint(df.iloc[0].club_local)\n",
    "#pp.pprint(df.iloc[0].club_visitante)"
   ]
  },
  {
   "cell_type": "code",
   "execution_count": 174,
   "metadata": {},
   "outputs": [
    {
     "data": {
      "text/plain": [
       "[u'Albacete Balompi\\xe9 SAD',\n",
       " u'Athletic Club',\n",
       " u'CD Legan\\xe9s SAD',\n",
       " u'CD Numancia de Soria SAD',\n",
       " u'CD Tenerife SAD',\n",
       " u'Club Atl\\xe9tico de Madrid SAD',\n",
       " u'Club Atl\\xe9tico sasuna',\n",
       " u'C\\xe1diz CF SAD',\n",
       " u'C\\xf3rdoba CF SAD',\n",
       " u'D Almer\\xeda SAD',\n",
       " u'D Las almas SAD',\n",
       " u'Deportivo Alav\\xe9s SAD',\n",
       " u'FC Barcelona',\n",
       " u'Getafe CF SAD',\n",
       " u'Gimn\\xe0stic de Tarragona SAD',\n",
       " u'Granada CF SAD',\n",
       " u'H\\xe9rcules de Alicante CF SAD',\n",
       " u'Levante D SAD',\n",
       " u'M\\xe1laga CF SAD',\n",
       " u'RC Celta de Vigo SAD',\n",
       " u'RC Deportivo de La Coru\\xf1a SAD',\n",
       " u'RC Recreativo de Huelva SAD',\n",
       " u'RCD Mallorca SAD',\n",
       " u'RCD spanyol de Barcelona SAD',\n",
       " u'Rayo Vallecano de Madrid SAD',\n",
       " u'Real Betis Balompi\\xe9 SAD',\n",
       " u'Real Madrid CF',\n",
       " u'Real Murcia CF SAD',\n",
       " u'Real Racing Club de Santander SAD',\n",
       " u'Real Sociedad de F\\xfatbol SAD',\n",
       " u'Real Sporting de Gij\\xf3n SAD',\n",
       " u'Real Valladolid CF SAD',\n",
       " u'Real Zaragoza SAD',\n",
       " u'SD ibar SAD',\n",
       " u'Sevilla FC SAD',\n",
       " u'Valencia CF SAD',\n",
       " u'Villarreal CF SAD',\n",
       " u'Xerez C.D. SAD',\n",
       " u'lche CF SAD']"
      ]
     },
     "execution_count": 174,
     "metadata": {},
     "output_type": "execute_result"
    }
   ],
   "source": [
    "# Distinct for a python list (does not preserve order)\n",
    "equipos_list_actas = sorted(list(set(equipos)))\n",
    "equipos_list_actas"
   ]
  },
  {
   "cell_type": "code",
   "execution_count": 175,
   "metadata": {},
   "outputs": [
    {
     "data": {
      "text/plain": [
       "[u'Albacete B.',\n",
       " u'Athletic Club',\n",
       " u'Atl\\xe9tico de Madrid',\n",
       " u'CA Osasuna',\n",
       " u'CD Legan\\xe9s',\n",
       " u'CD Numancia',\n",
       " u'CD Tenerife',\n",
       " u'C\\xe1diz CF',\n",
       " u'C\\xf3rdoba CF',\n",
       " u'D. Alav\\xe9s',\n",
       " u'Elche CF',\n",
       " u'FC Barcelona',\n",
       " u'Getafe CF',\n",
       " u'Granada CF',\n",
       " u'H\\xe9rcules CF',\n",
       " u'Levante UD',\n",
       " u'M\\xe1laga CF',\n",
       " u'N\\xe0stic',\n",
       " u'R. Racing C.',\n",
       " u'R. Sporting',\n",
       " u'R. Valladolid CF',\n",
       " u'R. Zaragoza',\n",
       " u'RC Celta',\n",
       " u'RC Deportivo',\n",
       " u'RC Recreativo',\n",
       " u'RCD Espanyol',\n",
       " u'RCD Mallorca',\n",
       " u'Rayo Vallecano',\n",
       " u'Real Betis',\n",
       " u'Real Madrid',\n",
       " u'Real Murcia',\n",
       " u'Real Sociedad',\n",
       " u'SD Eibar',\n",
       " u'Sevilla FC',\n",
       " u'UD Almer\\xeda',\n",
       " u'UD Las Palmas',\n",
       " u'Valencia CF',\n",
       " u'Villarreal CF',\n",
       " u'Xerez CD']"
      ]
     },
     "execution_count": 175,
     "metadata": {},
     "output_type": "execute_result"
    }
   ],
   "source": [
    "equipos_list_clasif = sorted(df_clasif.equipo.unique().tolist())\n",
    "equipos_list_clasif"
   ]
  },
  {
   "cell_type": "markdown",
   "metadata": {},
   "source": [
    "## Matching teams between different sources\n",
    "\n",
    "Now that we have identified the teams from the df_actas, we need to find unique teams in df_clasif. Then we will establish the relationship between them."
   ]
  },
  {
   "cell_type": "code",
   "execution_count": 176,
   "metadata": {},
   "outputs": [],
   "source": [
    "#i = 0\n",
    "#for equipo in equipos_list_actas:\n",
    "#    print (i, equipo)\n",
    "#    i += 1\n",
    "\n",
    "#i = 0\n",
    "#for equipo in equipos_list_clasif:\n",
    "#    print (i, equipo)\n",
    "#    i += 1"
   ]
  },
  {
   "cell_type": "code",
   "execution_count": 177,
   "metadata": {},
   "outputs": [
    {
     "name": "stdout",
     "output_type": "stream",
     "text": [
      "[ (u'Albacete Balompi\\xe9 SAD', u'Albacete B.'),\n",
      "  (u'Athletic Club', u'Athletic Club'),\n",
      "  (u'CD Legan\\xe9s SAD', u'CD Legan\\xe9s'),\n",
      "  (u'CD Numancia de Soria SAD', u'CD Numancia'),\n",
      "  (u'CD Tenerife SAD', u'CD Tenerife'),\n",
      "  (u'Club Atl\\xe9tico de Madrid SAD', u'Atl\\xe9tico de Madrid'),\n",
      "  (u'Club Atl\\xe9tico sasuna', u'CA Osasuna'),\n",
      "  (u'C\\xe1diz CF SAD', u'C\\xe1diz CF'),\n",
      "  (u'C\\xf3rdoba CF SAD', u'C\\xf3rdoba CF'),\n",
      "  (u'D Almer\\xeda SAD', u'UD Almer\\xeda'),\n",
      "  (u'D Las almas SAD', u'UD Las Palmas'),\n",
      "  (u'Deportivo Alav\\xe9s SAD', u'D. Alav\\xe9s'),\n",
      "  (u'FC Barcelona', u'FC Barcelona'),\n",
      "  (u'Getafe CF SAD', u'Getafe CF'),\n",
      "  (u'Gimn\\xe0stic de Tarragona SAD', u'N\\xe0stic'),\n",
      "  (u'Granada CF SAD', u'Granada CF'),\n",
      "  (u'H\\xe9rcules de Alicante CF SAD', u'H\\xe9rcules CF'),\n",
      "  (u'Levante D SAD', u'Levante UD'),\n",
      "  (u'M\\xe1laga CF SAD', u'M\\xe1laga CF'),\n",
      "  (u'RC Celta de Vigo SAD', u'RC Celta'),\n",
      "  (u'RC Deportivo de La Coru\\xf1a SAD', u'RC Deportivo'),\n",
      "  (u'RC Recreativo de Huelva SAD', u'RC Recreativo'),\n",
      "  (u'RCD Mallorca SAD', u'RCD Mallorca'),\n",
      "  (u'RCD spanyol de Barcelona SAD', u'RCD Espanyol'),\n",
      "  (u'Rayo Vallecano de Madrid SAD', u'Rayo Vallecano'),\n",
      "  (u'Real Betis Balompi\\xe9 SAD', u'Real Betis'),\n",
      "  (u'Real Madrid CF', u'Real Madrid'),\n",
      "  (u'Real Murcia CF SAD', u'Real Murcia'),\n",
      "  (u'Real Racing Club de Santander SAD', u'R. Racing C.'),\n",
      "  (u'Real Sociedad de F\\xfatbol SAD', u'Real Sociedad'),\n",
      "  (u'Real Sporting de Gij\\xf3n SAD', u'R. Sporting'),\n",
      "  (u'Real Valladolid CF SAD', u'R. Valladolid CF'),\n",
      "  (u'Real Zaragoza SAD', u'R. Zaragoza'),\n",
      "  (u'SD ibar SAD', u'SD Eibar'),\n",
      "  (u'Sevilla FC SAD', u'Sevilla FC'),\n",
      "  (u'Valencia CF SAD', u'Valencia CF'),\n",
      "  (u'Villarreal CF SAD', u'Villarreal CF'),\n",
      "  (u'Xerez C.D. SAD', u'Xerez CD'),\n",
      "  (u'lche CF SAD', u'Elche CF')]\n"
     ]
    }
   ],
   "source": [
    "equipos_list = [\n",
    "    (equipos_list_actas[0], equipos_list_clasif[0]),\n",
    "    (equipos_list_actas[1], equipos_list_clasif[1]),\n",
    "    (equipos_list_actas[2], equipos_list_clasif[4]),\n",
    "    (equipos_list_actas[3], equipos_list_clasif[5]),\n",
    "    (equipos_list_actas[4], equipos_list_clasif[6]),\n",
    "    (equipos_list_actas[5], equipos_list_clasif[2]),\n",
    "    (equipos_list_actas[6], equipos_list_clasif[3]),\n",
    "    (equipos_list_actas[7], equipos_list_clasif[7]),\n",
    "    (equipos_list_actas[8], equipos_list_clasif[8]),\n",
    "    (equipos_list_actas[9], equipos_list_clasif[34]),\n",
    "    (equipos_list_actas[10], equipos_list_clasif[35]),\n",
    "    (equipos_list_actas[11], equipos_list_clasif[9]),\n",
    "    (equipos_list_actas[12], equipos_list_clasif[11]),\n",
    "    (equipos_list_actas[13], equipos_list_clasif[12]),\n",
    "    (equipos_list_actas[14], equipos_list_clasif[17]),\n",
    "    (equipos_list_actas[15], equipos_list_clasif[13]),\n",
    "    (equipos_list_actas[16], equipos_list_clasif[14]),\n",
    "    (equipos_list_actas[17], equipos_list_clasif[15]),\n",
    "    (equipos_list_actas[18], equipos_list_clasif[16]),\n",
    "    (equipos_list_actas[19], equipos_list_clasif[22]),\n",
    "    (equipos_list_actas[20], equipos_list_clasif[23]),\n",
    "    (equipos_list_actas[21], equipos_list_clasif[24]),\n",
    "    (equipos_list_actas[22], equipos_list_clasif[26]),\n",
    "    (equipos_list_actas[23], equipos_list_clasif[25]),\n",
    "    (equipos_list_actas[24], equipos_list_clasif[27]),\n",
    "    (equipos_list_actas[25], equipos_list_clasif[28]),\n",
    "    (equipos_list_actas[26], equipos_list_clasif[29]),\n",
    "    (equipos_list_actas[27], equipos_list_clasif[30]),\n",
    "    (equipos_list_actas[28], equipos_list_clasif[18]),\n",
    "    (equipos_list_actas[29], equipos_list_clasif[31]),\n",
    "    (equipos_list_actas[30], equipos_list_clasif[19]),\n",
    "    (equipos_list_actas[31], equipos_list_clasif[20]),\n",
    "    (equipos_list_actas[32], equipos_list_clasif[21]),\n",
    "    (equipos_list_actas[33], equipos_list_clasif[32]),\n",
    "    (equipos_list_actas[34], equipos_list_clasif[33]),\n",
    "    (equipos_list_actas[35], equipos_list_clasif[36]),\n",
    "    (equipos_list_actas[36], equipos_list_clasif[37]),\n",
    "    (equipos_list_actas[37], equipos_list_clasif[38]),\n",
    "    (equipos_list_actas[38], equipos_list_clasif[10])\n",
    "]\n",
    "\n",
    "pp.pprint(equipos_list)"
   ]
  },
  {
   "cell_type": "markdown",
   "metadata": {},
   "source": [
    "Linking the info from both dataframes"
   ]
  },
  {
   "cell_type": "code",
   "execution_count": 178,
   "metadata": {
    "collapsed": true
   },
   "outputs": [],
   "source": [
    "for temporada in temporada_list:\n",
    "    for equipo_acta in equipos_list_actas:\n",
    "        for jornada in jornada_list:\n",
    "            obj_actas = df_actas[(df_actas.temporada==temporada) & (df_actas.jornada==jornada)]\n",
    "            obj_clasif = df_clasif[(df_clasif.temporada==temporada) & (df_clasif.jornada==jornada)]\n",
    "            for index, row in obj_actas.iterrows():\n",
    "                \n",
    "                if row.club_local['nombre'] == equipo_acta:\n",
    "                    for x in equipos_list:\n",
    "                        if x[0] == equipo_acta:\n",
    "                            equipo_clasif = x[1]\n",
    "                            for index_clasif, row_clasif in obj_clasif.iterrows():\n",
    "                                if row_clasif.equipo == equipo_clasif:\n",
    "                                    row.club_local[\"posicion\"] = row_clasif.posicion\n",
    "                                    row.club_local[\"puntos\"] = row_clasif.puntos\n",
    "                                    \n",
    "                elif row.club_visitante['nombre'] == equipo_acta:\n",
    "                    for x in equipos_list:\n",
    "                        if x[0] == equipo_acta:\n",
    "                            equipo_clasif = x[1]\n",
    "                            for index_clasif, row_clasif in obj_clasif.iterrows():\n",
    "                                if row_clasif.equipo == equipo_clasif:\n",
    "                                    row.club_visitante[\"posicion\"] = row_clasif.posicion\n",
    "                                    row.club_visitante[\"puntos\"] = row_clasif.puntos"
   ]
  },
  {
   "cell_type": "markdown",
   "metadata": {},
   "source": [
    "Validation: checking Real Madrid's 2016 season"
   ]
  },
  {
   "cell_type": "code",
   "execution_count": 185,
   "metadata": {},
   "outputs": [
    {
     "name": "stdout",
     "output_type": "stream",
     "text": [
      "Team: Real Madrid CF , Season: 2016\n",
      "jornada: 1 , puntos: 3 ( + 3 ), posicion: 2\n",
      "jornada: 2 , puntos: 6 ( + 3 ), posicion: 3\n",
      "jornada: 3 , puntos: 9 ( + 3 ), posicion: 1\n",
      "jornada: 4 , puntos: 12 ( + 3 ), posicion: 1\n",
      "jornada: 5 , puntos: 13 ( + 1 ), posicion: 1\n",
      "jornada: 6 , puntos: 14 ( + 1 ), posicion: 1\n",
      "jornada: 7 , puntos: 15 ( + 1 ), posicion: 2\n",
      "jornada: 8 , puntos: 18 ( + 3 ), posicion: 2\n",
      "jornada: 9 , puntos: 21 ( + 3 ), posicion: 1\n",
      "jornada: 10 , puntos: 24 ( + 3 ), posicion: 1\n",
      "jornada: 11 , puntos: 27 ( + 3 ), posicion: 1\n",
      "jornada: 12 , puntos: 30 ( + 3 ), posicion: 1\n",
      "jornada: 13 , puntos: 33 ( + 3 ), posicion: 1\n",
      "jornada: 14 , puntos: 34 ( + 1 ), posicion: 1\n",
      "jornada: 15 , puntos: 37 ( + 3 ), posicion: 1\n",
      "jornada: 16 , puntos: 37 ( + 0 ), posicion: 1\n",
      "jornada: 17 , puntos: 40 ( + 3 ), posicion: 1\n",
      "jornada: 18 , puntos: 40 ( + 3 ), posicion: 1\n",
      "jornada: 19 , puntos: 43 ( + 3 ), posicion: 1\n",
      "jornada: 20 , puntos: 46 ( + 3 ), posicion: 1\n",
      "jornada: 21 , puntos: 46 ( + 3 ), posicion: 1\n",
      "jornada: 22 , puntos: 49 ( + 3 ), posicion: 1\n",
      "jornada: 23 , puntos: 52 ( + 3 ), posicion: 1\n",
      "jornada: 24 , puntos: 55 ( + 3 ), posicion: 1\n",
      "jornada: 25 , puntos: 56 ( + 1 ), posicion: 2\n",
      "jornada: 26 , puntos: 59 ( + 3 ), posicion: 2\n",
      "jornada: 27 , puntos: 62 ( + 3 ), posicion: 1\n",
      "jornada: 28 , puntos: 65 ( + 3 ), posicion: 1\n",
      "jornada: 29 , puntos: 68 ( + 3 ), posicion: 1\n",
      "jornada: 30 , puntos: 71 ( + 3 ), posicion: 1\n",
      "jornada: 31 , puntos: 72 ( + 1 ), posicion: 1\n",
      "jornada: 32 , puntos: 75 ( + 3 ), posicion: 1\n",
      "jornada: 33 , puntos: 75 ( + 0 ), posicion: 2\n",
      "jornada: 34 , puntos: 78 ( + 3 ), posicion: 2\n",
      "jornada: 35 , puntos: 81 ( + 3 ), posicion: 2\n",
      "jornada: 36 , puntos: 84 ( + 3 ), posicion: 2\n",
      "jornada: 37 , puntos: 90 ( + 3 ), posicion: 1\n",
      "jornada: 38 , puntos: 93 ( + 3 ), posicion: 1\n"
     ]
    }
   ],
   "source": [
    "temporada = 2016\n",
    "equipo = equipos_list_actas[26]\n",
    "\n",
    "print \"Team:\",equipo, \", Season:\",temporada\n",
    "\n",
    "df_temp = df_actas[(df_actas.temporada==temporada)]\n",
    "for jornada in jornada_list:\n",
    "    obj_jornada = df_temp[df_temp.jornada==jornada]\n",
    "    for index, row in obj_jornada.iterrows():\n",
    "\n",
    "        if row.club_local['nombre'] == equipo:\n",
    "            print \"jornada:\", jornada,', puntos:', row.club_local['puntos'],\"( +\", row.club_local['puntos_jornada'], '), posicion:', row.club_local['posicion']\n",
    "            \n",
    "        elif row.club_visitante['nombre'] == equipo:\n",
    "            print \"jornada:\", jornada,', puntos:', row.club_visitante['puntos'],\"( +\", row.club_visitante['puntos_jornada'], '), posicion:', row.club_visitante['posicion']\n",
    "    "
   ]
  },
  {
   "cell_type": "markdown",
   "metadata": {},
   "source": [
    "### Output"
   ]
  },
  {
   "cell_type": "code",
   "execution_count": 191,
   "metadata": {},
   "outputs": [
    {
     "data": {
      "text/plain": [
       "{u'alineacion': [[13, u'Viera, Mario Sebasti\\xe1n'],\n",
       "  [2, u'Rodr\\xedguez Prado, Gonzalo Javier'],\n",
       "  [3, u'Arruabarrena, Rodolfo Mart\\xedn'],\n",
       "  [5, u'Forl\\xe1n Corazo, Diego'],\n",
       "  [8, u'Riquelme, Juan Rom\\xe1n'],\n",
       "  [17, u'Rodr\\xedguez Venta, Javier'],\n",
       "  [18, u'Tacchinardi, Alessio'],\n",
       "  [19, u'Senna Da Silva, Marcos Antonio'],\n",
       "  [21, u'Cazorla Gonz\\xe1lez, Santiago'],\n",
       "  [22, u'Pe\\xf1a Monta\\xf1o, Juan Manuel'],\n",
       "  [23, u'Romero Poy\\xf3n, Jos\\xe9 Mar\\xeda']],\n",
       " u'entrenador': u'Pellegrini Ripamonti, Manuel Luis',\n",
       " u'entrenador_2': u'Cousillas, Rub\\xe9n Osvaldo',\n",
       " u'goles': [{u'goleador': u'Riquelme, Juan Rom\\xe1n',\n",
       "   u'minuto': 81,\n",
       "   u'tipo_gol': u'Gol'}],\n",
       " u'goles_count': 1,\n",
       " u'nombre': u'Villarreal CF SAD',\n",
       " 'posicion': 19,\n",
       " 'puntos': 2,\n",
       " 'puntos_jornada': 0,\n",
       " u'suplentes': [[25, u'Barbosa, Mariano Sebastian'],\n",
       "  [6, u'Moreno Verd\\xfa, Jos\\xe9 Joaqu\\xedn'],\n",
       "  [7, u'Betancort Perdomo, Antonio Guayre'],\n",
       "  [9, u'Figueroa, Luciano Gabriel'],\n",
       "  [10, u'Garc\\xeda Junyent, Roger'],\n",
       "  [16, u'\\xc1lvarez Sanju\\xe1n, Enrique'],\n",
       "  [20, u'Valencia Mosquera, Antonio']],\n",
       " u'sustituciones': [{u'entra': u'Garc\\xeda Junyent, Roger',\n",
       "   u'minuto': 58,\n",
       "   u'sale': u'Cazorla Gonz\\xe1lez, Santiago'},\n",
       "  {u'entra': u'Figueroa, Luciano Gabriel',\n",
       "   u'minuto': 58,\n",
       "   u'sale': u'Senna Da Silva, Marcos Antonio'},\n",
       "  {u'entra': u'Betancort Perdomo, Antonio Guayre',\n",
       "   u'minuto': 67,\n",
       "   u'sale': u'Romero Poy\\xf3n, Jos\\xe9 Mar\\xeda'}],\n",
       " u'sustituciones_count': 3,\n",
       " u'tarjetas': [{u'jugador': u'Rodr\\xedguez Prado, Gonzalo Javier',\n",
       "   u'minuto': 71,\n",
       "   u'tarjeta': u'Amarilla'}],\n",
       " u'tarjetas_count': 1}"
      ]
     },
     "execution_count": 191,
     "metadata": {},
     "output_type": "execute_result"
    }
   ],
   "source": [
    "df_actas.iloc[0].club_local"
   ]
  },
  {
   "cell_type": "code",
   "execution_count": 205,
   "metadata": {},
   "outputs": [],
   "source": [
    "df_output = df_actas[[\"temporada\", \"jornada\", \"fecha\", \"club_local\", \"club_visitante\"]]\n",
    "    \n",
    "#df_output.drop('urls', axis=1, inplace=True)\n",
    "#df_output.drop('campo', axis=1, inplace=True)\n",
    "#df_output.drop('campeonato', axis=1, inplace=True)\n",
    "\n",
    "for index, row in df_output.iterrows():\n",
    "    \n",
    "    row.club_local.pop(\"alineacion\", None)\n",
    "    row.club_local.pop(\"alineacion\", None)\n",
    "    row.club_local.pop(\"suplentes\", None)\n",
    "    row.club_local.pop(\"sustituciones\", None)\n",
    "    row.club_local.pop(\"entrenador\", None)\n",
    "    row.club_local.pop(\"entrenador_2\", None)\n",
    "    row.club_local.pop(\"arbitros\", None)\n",
    "    \n",
    "    row.club_visitante.pop(\"alineacion\", None)\n",
    "    row.club_visitante.pop(\"alineacion\", None)\n",
    "    row.club_visitante.pop(\"suplentes\", None)\n",
    "    row.club_visitante.pop(\"sustituciones\", None)\n",
    "    row.club_visitante.pop(\"entrenador\", None)\n",
    "    row.club_visitante.pop(\"entrenador_2\", None)\n",
    "    row.club_visitante.pop(\"arbitros\", None)"
   ]
  },
  {
   "cell_type": "code",
   "execution_count": 209,
   "metadata": {},
   "outputs": [],
   "source": [
    "df_output.to_json('./football.json', orient='records')"
   ]
  },
  {
   "cell_type": "markdown",
   "metadata": {},
   "source": [
    "## Deprecated"
   ]
  },
  {
   "cell_type": "code",
   "execution_count": 181,
   "metadata": {
    "collapsed": true
   },
   "outputs": [],
   "source": [
    "## Calculate puntos for each jornada for each team\n",
    "#\n",
    "#puntos = 0\n",
    "#goles = 0\n",
    "#i = 0\n",
    "#for temporada in temporada_list:\n",
    "#    for equipo in equipos_list:\n",
    "#        puntos = 0\n",
    "#        goles = 0\n",
    "#        for jornada in jornada_list:\n",
    "#            obj = df[(df.temporada==temporada) & (df.jornada==jornada)]\n",
    "#            for index, row in obj.iterrows():\n",
    "#                if row.club_local['nombre'] == equipo:\n",
    "#                    puntos += row.club_local[\"puntos_jornada\"]\n",
    "#                    goles += row.club_local[\"goles_count\"]\n",
    "#                    row.club_local[\"puntos\"] = puntos\n",
    "#                    row.club_local[\"goles_count_acum\"] = goles\n",
    "#                elif row.club_visitante['nombre'] == equipo:\n",
    "#                    puntos += row.club_visitante[\"puntos_jornada\"]\n",
    "#                    goles += row.club_visitante[\"goles_count\"]\n",
    "#                    row.club_visitante[\"puntos\"] = puntos\n",
    "#                    row.club_visitante[\"goles_count_acum\"] = goles"
   ]
  },
  {
   "cell_type": "code",
   "execution_count": 182,
   "metadata": {},
   "outputs": [],
   "source": [
    "## Comprobación\n",
    "#\n",
    "#i = 0\n",
    "#a = df[(df.temporada == \"Temporada 2003/2004\")]\n",
    "#equipo = \"FC Barcelona\"\n",
    "#for jornada in jornada_list:\n",
    "#    i += 1\n",
    "#    if i < 15:\n",
    "#        b = a[(a.jornada==jornada)]\n",
    "#        for index, row in b.iterrows():\n",
    "#            if row.club_local[\"nombre\"]==equipo:\n",
    "#                print jornada, \"(+\",row.club_local['puntos_jornada'],\")\",row.club_local['puntos'], \"goles:\", row.club_local['goles_count_acum']\n",
    "#            elif row.club_visitante[\"nombre\"]==equipo:\n",
    "#                print jornada, \"(+\",row.club_visitante['puntos_jornada'],\")\", row.club_visitante['puntos'], \"goles:\", row.club_visitante['goles_count_acum']"
   ]
  }
 ],
 "metadata": {
  "kernelspec": {
   "display_name": "Python 2",
   "language": "python",
   "name": "python2"
  },
  "language_info": {
   "codemirror_mode": {
    "name": "ipython",
    "version": 2
   },
   "file_extension": ".py",
   "mimetype": "text/x-python",
   "name": "python",
   "nbconvert_exporter": "python",
   "pygments_lexer": "ipython2",
   "version": "2.7.9"
  }
 },
 "nbformat": 4,
 "nbformat_minor": 2
}
