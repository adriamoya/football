{
 "cells": [
  {
   "cell_type": "markdown",
   "metadata": {},
   "source": [
    "# Joining information\n",
    "\n",
    "The idea here is to join info from different sources:\n",
    "* RFEF, we have info from every match (referees, stadiuem, local and viisitor team, etc...\n",
    "* LaLiga, for every match day and season we have the classification\n",
    "We want to append the LaLiga information to every match collected in the RFEF, so that every team after each match day also has information regarding its position and points"
   ]
  },
  {
   "cell_type": "code",
   "execution_count": 2,
   "metadata": {
    "collapsed": true
   },
   "outputs": [],
   "source": [
    "import pandas as pd\n",
    "import pprint\n",
    "\n",
    "pp = pprint.PrettyPrinter(indent=2)"
   ]
  },
  {
   "cell_type": "code",
   "execution_count": 3,
   "metadata": {
    "collapsed": true
   },
   "outputs": [],
   "source": [
    "df_actas = pd.read_json('../rfef/actas.json') # rfef"
   ]
  },
  {
   "cell_type": "code",
   "execution_count": 4,
   "metadata": {
    "scrolled": true
   },
   "outputs": [
    {
     "data": {
      "text/html": [
       "<div>\n",
       "<style>\n",
       "    .dataframe thead tr:only-child th {\n",
       "        text-align: right;\n",
       "    }\n",
       "\n",
       "    .dataframe thead th {\n",
       "        text-align: left;\n",
       "    }\n",
       "\n",
       "    .dataframe tbody tr th {\n",
       "        vertical-align: top;\n",
       "    }\n",
       "</style>\n",
       "<table border=\"1\" class=\"dataframe\">\n",
       "  <thead>\n",
       "    <tr style=\"text-align: right;\">\n",
       "      <th></th>\n",
       "      <th>arbitros</th>\n",
       "      <th>campeonato</th>\n",
       "      <th>campo</th>\n",
       "      <th>club_local</th>\n",
       "      <th>club_visitante</th>\n",
       "      <th>fecha</th>\n",
       "      <th>jornada</th>\n",
       "      <th>temporada</th>\n",
       "      <th>urls</th>\n",
       "    </tr>\n",
       "  </thead>\n",
       "  <tbody>\n",
       "    <tr>\n",
       "      <th>5317</th>\n",
       "      <td>{u'arbitro_asistente_1': [u'D. Guerrero Alonso...</td>\n",
       "      <td>Campeonato de Liga 1ª División</td>\n",
       "      <td>La Rosaleda</td>\n",
       "      <td>{u'entrenador_2': u'López Muñiz, Juan Ramón', ...</td>\n",
       "      <td>{u'entrenador_2': u'Fernández Nieves, José Man...</td>\n",
       "      <td>2003-10-25 17:30:00</td>\n",
       "      <td>8</td>\n",
       "      <td>2003</td>\n",
       "      <td>[http://actas.rfef.es/actas/RFEF_CmpActa1?cod_...</td>\n",
       "    </tr>\n",
       "    <tr>\n",
       "      <th>5318</th>\n",
       "      <td>{u'arbitro_asistente_1': [u'D. Azcona Iturbe, ...</td>\n",
       "      <td>Campeonato de Liga 1ª División</td>\n",
       "      <td>Riazor</td>\n",
       "      <td>{u'entrenador_2': u'Delgado Melo, Francisco', ...</td>\n",
       "      <td>{u'entrenador_2': u'López Habas, Antonio', u't...</td>\n",
       "      <td>2003-10-25 21:30:00</td>\n",
       "      <td>8</td>\n",
       "      <td>2003</td>\n",
       "      <td>[http://actas.rfef.es/actas/RFEF_CmpActa1?cod_...</td>\n",
       "    </tr>\n",
       "  </tbody>\n",
       "</table>\n",
       "</div>"
      ],
      "text/plain": [
       "                                               arbitros  \\\n",
       "5317  {u'arbitro_asistente_1': [u'D. Guerrero Alonso...   \n",
       "5318  {u'arbitro_asistente_1': [u'D. Azcona Iturbe, ...   \n",
       "\n",
       "                          campeonato        campo  \\\n",
       "5317  Campeonato de Liga 1ª División  La Rosaleda   \n",
       "5318  Campeonato de Liga 1ª División       Riazor   \n",
       "\n",
       "                                             club_local  \\\n",
       "5317  {u'entrenador_2': u'López Muñiz, Juan Ramón', ...   \n",
       "5318  {u'entrenador_2': u'Delgado Melo, Francisco', ...   \n",
       "\n",
       "                                         club_visitante                fecha  \\\n",
       "5317  {u'entrenador_2': u'Fernández Nieves, José Man...  2003-10-25 17:30:00   \n",
       "5318  {u'entrenador_2': u'López Habas, Antonio', u't...  2003-10-25 21:30:00   \n",
       "\n",
       "      jornada  temporada                                               urls  \n",
       "5317        8       2003  [http://actas.rfef.es/actas/RFEF_CmpActa1?cod_...  \n",
       "5318        8       2003  [http://actas.rfef.es/actas/RFEF_CmpActa1?cod_...  "
      ]
     },
     "execution_count": 4,
     "metadata": {},
     "output_type": "execute_result"
    }
   ],
   "source": [
    "df_actas.tail(2)"
   ]
  },
  {
   "cell_type": "code",
   "execution_count": 5,
   "metadata": {
    "collapsed": true
   },
   "outputs": [],
   "source": [
    "jornada_list = sorted(df_actas['jornada'].unique().tolist())\n",
    "temporada_list = sorted(df_actas['temporada'].unique().tolist())"
   ]
  },
  {
   "cell_type": "code",
   "execution_count": 7,
   "metadata": {},
   "outputs": [],
   "source": [
    "evento = {}\n",
    "list_eventos = []\n",
    "\n",
    "for index, row in df_actas.iterrows():\n",
    "    for i in range(1,3):\n",
    "        if i == 1:\n",
    "            evento[\"temporada\"] = row.temporada\n",
    "            evento[\"jornada\"] = row.jornada\n",
    "            evento[\"equipo\"] = row.club_local[\"nombre\"]\n",
    "            evento[\"tipo_gol\"] = [gol[\"tipo_gol\"] for gol in row.club_local[\"goles\"]]\n",
    "            list_eventos.append(evento.copy())\n",
    "        if i == 2:\n",
    "            evento[\"temporada\"] = row.temporada\n",
    "            evento[\"jornada\"] = row.jornada\n",
    "            evento[\"equipo\"] = row.club_visitante[\"nombre\"]\n",
    "            evento[\"tipo_gol\"] = [gol[\"tipo_gol\"] for gol in row.club_visitante[\"goles\"]]\n",
    "            list_eventos.append(evento.copy())"
   ]
  },
  {
   "cell_type": "markdown",
   "metadata": {},
   "source": [
    "Different types of goals:"
   ]
  },
  {
   "cell_type": "code",
   "execution_count": 17,
   "metadata": {},
   "outputs": [
    {
     "name": "stdout",
     "output_type": "stream",
     "text": [
      "set([u'Penalty', u'Gol', u'P.P.'])\n"
     ]
    }
   ],
   "source": [
    "tipo_gol = [tipo_gol for evento in list_eventos for tipo_gol in evento[\"tipo_gol\"]]\n",
    "\n",
    "#this is equal to:\n",
    "#\n",
    "#output = []\n",
    "#for evento in list_eventos:\n",
    "#    for tipo_gol in evento[\"tipo_gol\"]:\n",
    "#        output.append(tipo_gol)\n",
    "\n",
    "tipo_gol_distinct = set(tipo_gol)\n",
    "print tipo_gol_distinct"
   ]
  }
 ],
 "metadata": {
  "kernelspec": {
   "display_name": "Python 2",
   "language": "python",
   "name": "python2"
  },
  "language_info": {
   "codemirror_mode": {
    "name": "ipython",
    "version": 2
   },
   "file_extension": ".py",
   "mimetype": "text/x-python",
   "name": "python",
   "nbconvert_exporter": "python",
   "pygments_lexer": "ipython2",
   "version": "2.7.9"
  }
 },
 "nbformat": 4,
 "nbformat_minor": 2
}
