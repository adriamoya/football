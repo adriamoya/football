{
 "cells": [
  {
   "cell_type": "markdown",
   "metadata": {},
   "source": [
    "# Joining information\n",
    "\n",
    "The idea here is to join info from different sources:\n",
    "* RFEF, we have info from every match (referees, stadiuem, local and viisitor team, etc...\n",
    "* LaLiga, for every match day and season we have the classification\n",
    "We want to append the LaLiga information to every match collected in the RFEF, so that every team after each match day also has information regarding its position and points"
   ]
  },
  {
   "cell_type": "code",
   "execution_count": 6,
   "metadata": {
    "collapsed": true
   },
   "outputs": [],
   "source": [
    "import pandas as pd\n",
    "import pprint\n",
    "\n",
    "pp = pprint.PrettyPrinter(indent=2)"
   ]
  },
  {
   "cell_type": "code",
   "execution_count": 7,
   "metadata": {
    "collapsed": true
   },
   "outputs": [],
   "source": [
    "df = pd.read_json('./football.json') # rfef"
   ]
  },
  {
   "cell_type": "code",
   "execution_count": 8,
   "metadata": {
    "scrolled": true
   },
   "outputs": [
    {
     "data": {
      "text/html": [
       "<div>\n",
       "<style>\n",
       "    .dataframe thead tr:only-child th {\n",
       "        text-align: right;\n",
       "    }\n",
       "\n",
       "    .dataframe thead th {\n",
       "        text-align: left;\n",
       "    }\n",
       "\n",
       "    .dataframe tbody tr th {\n",
       "        vertical-align: top;\n",
       "    }\n",
       "</style>\n",
       "<table border=\"1\" class=\"dataframe\">\n",
       "  <thead>\n",
       "    <tr style=\"text-align: right;\">\n",
       "      <th></th>\n",
       "      <th>club_local</th>\n",
       "      <th>club_visitante</th>\n",
       "      <th>fecha</th>\n",
       "      <th>jornada</th>\n",
       "      <th>temporada</th>\n",
       "    </tr>\n",
       "  </thead>\n",
       "  <tbody>\n",
       "    <tr>\n",
       "      <th>5317</th>\n",
       "      <td>{u'posicion_inicial': 13, u'tarjetas': [{u'tar...</td>\n",
       "      <td>{u'posicion_inicial': 12, u'tarjetas': [{u'tar...</td>\n",
       "      <td>2003-10-25 17:30:00</td>\n",
       "      <td>8</td>\n",
       "      <td>2003</td>\n",
       "    </tr>\n",
       "    <tr>\n",
       "      <th>5318</th>\n",
       "      <td>{u'posicion_inicial': 2, u'tarjetas': [{u'tarj...</td>\n",
       "      <td>{u'posicion_inicial': 1, u'tarjetas': [{u'tarj...</td>\n",
       "      <td>2003-10-25 21:30:00</td>\n",
       "      <td>8</td>\n",
       "      <td>2003</td>\n",
       "    </tr>\n",
       "  </tbody>\n",
       "</table>\n",
       "</div>"
      ],
      "text/plain": [
       "                                             club_local  \\\n",
       "5317  {u'posicion_inicial': 13, u'tarjetas': [{u'tar...   \n",
       "5318  {u'posicion_inicial': 2, u'tarjetas': [{u'tarj...   \n",
       "\n",
       "                                         club_visitante                fecha  \\\n",
       "5317  {u'posicion_inicial': 12, u'tarjetas': [{u'tar...  2003-10-25 17:30:00   \n",
       "5318  {u'posicion_inicial': 1, u'tarjetas': [{u'tarj...  2003-10-25 21:30:00   \n",
       "\n",
       "      jornada  temporada  \n",
       "5317        8       2003  \n",
       "5318        8       2003  "
      ]
     },
     "execution_count": 8,
     "metadata": {},
     "output_type": "execute_result"
    }
   ],
   "source": [
    "df.tail(2)"
   ]
  },
  {
   "cell_type": "code",
   "execution_count": 9,
   "metadata": {
    "collapsed": true
   },
   "outputs": [],
   "source": [
    "jornada_list = sorted(df['jornada'].unique().tolist())\n",
    "temporada_list = sorted(df['temporada'].unique().tolist())"
   ]
  },
  {
   "cell_type": "code",
   "execution_count": 12,
   "metadata": {},
   "outputs": [
    {
     "name": "stdout",
     "output_type": "stream",
     "text": [
      "{ u'goles': [ { u'goleador': u'Riquelme, Juan Rom\\xe1n',\n",
      "                u'minuto': 81,\n",
      "                u'tipo_gol': u'Gol'}],\n",
      "  u'goles_count': 1,\n",
      "  u'nombre': u'Villarreal CF SAD',\n",
      "  u'posicion_final': 19,\n",
      "  u'posicion_inicial': 19,\n",
      "  u'puntos_final': 2,\n",
      "  u'puntos_inicial': 2,\n",
      "  u'puntos_jornada': 0,\n",
      "  u'sustituciones_count': 3,\n",
      "  u'tarjetas': [ { u'jugador': u'Rodr\\xedguez Prado, Gonzalo Javier',\n",
      "                   u'minuto': 71,\n",
      "                   u'tarjeta': u'Amarilla'}],\n",
      "  u'tarjetas_count': 1}\n",
      "\n",
      "{ u'goles': [ { u'goleador': u'Fernando Nelo, Joao',\n",
      "                u'minuto': 26,\n",
      "                u'tipo_gol': u'Gol'},\n",
      "              { u'goleador': u'Fernando Nelo, Joao',\n",
      "                u'minuto': 46,\n",
      "                u'tipo_gol': u'Gol'}],\n",
      "  u'goles_count': 2,\n",
      "  u'nombre': u'RC Celta de Vigo SAD',\n",
      "  u'posicion_final': 1,\n",
      "  u'posicion_inicial': 3,\n",
      "  u'puntos_final': 9,\n",
      "  u'puntos_inicial': 6,\n",
      "  u'puntos_jornada': 3,\n",
      "  u'sustituciones_count': 3,\n",
      "  u'tarjetas': [ { u'jugador': u'Oubi\\xf1a Mel\\xe9ndez, Borja',\n",
      "                   u'minuto': 47,\n",
      "                   u'tarjeta': u'Amarilla'},\n",
      "                 { u'jugador': u'Contreras Ficas, Pablo Andr\\xe9s',\n",
      "                   u'minuto': 48,\n",
      "                   u'tarjeta': u'Amarilla'}],\n",
      "  u'tarjetas_count': 2}\n"
     ]
    }
   ],
   "source": [
    "pp.pprint(df.iloc[0].club_local)\n",
    "print \"\"\n",
    "pp.pprint(df.iloc[0].club_visitante)"
   ]
  },
  {
   "cell_type": "code",
   "execution_count": 7,
   "metadata": {
    "collapsed": true
   },
   "outputs": [],
   "source": [
    "evento = {}\n",
    "list_eventos = []\n",
    "\n",
    "for index, row in df_actas.iterrows():\n",
    "    for i in range(1,3):\n",
    "        if i == 1:\n",
    "            evento[\"temporada\"] = row.temporada\n",
    "            evento[\"jornada\"] = row.jornada\n",
    "            evento[\"equipo\"] = row.club_local[\"nombre\"]\n",
    "            evento[\"tipo_gol\"] = [gol[\"tipo_gol\"] for gol in row.club_local[\"goles\"]]\n",
    "            list_eventos.append(evento.copy())\n",
    "        if i == 2:\n",
    "            evento[\"temporada\"] = row.temporada\n",
    "            evento[\"jornada\"] = row.jornada\n",
    "            evento[\"equipo\"] = row.club_visitante[\"nombre\"]\n",
    "            evento[\"tipo_gol\"] = [gol[\"tipo_gol\"] for gol in row.club_visitante[\"goles\"]]\n",
    "            list_eventos.append(evento.copy())"
   ]
  },
  {
   "cell_type": "markdown",
   "metadata": {},
   "source": [
    "Different types of goals:"
   ]
  },
  {
   "cell_type": "code",
   "execution_count": 17,
   "metadata": {},
   "outputs": [
    {
     "name": "stdout",
     "output_type": "stream",
     "text": [
      "set([u'Penalty', u'Gol', u'P.P.'])\n"
     ]
    }
   ],
   "source": [
    "tipo_gol = [tipo_gol for evento in list_eventos for tipo_gol in evento[\"tipo_gol\"]]\n",
    "\n",
    "#this is equal to:\n",
    "#\n",
    "#output = []\n",
    "#for evento in list_eventos:\n",
    "#    for tipo_gol in evento[\"tipo_gol\"]:\n",
    "#        output.append(tipo_gol)\n",
    "\n",
    "tipo_gol_distinct = set(tipo_gol)\n",
    "print tipo_gol_distinct"
   ]
  }
 ],
 "metadata": {
  "kernelspec": {
   "display_name": "Python 2",
   "language": "python",
   "name": "python2"
  },
  "language_info": {
   "codemirror_mode": {
    "name": "ipython",
    "version": 2
   },
   "file_extension": ".py",
   "mimetype": "text/x-python",
   "name": "python",
   "nbconvert_exporter": "python",
   "pygments_lexer": "ipython2",
   "version": "2.7.9"
  }
 },
 "nbformat": 4,
 "nbformat_minor": 2
}
